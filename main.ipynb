{
  "cells": [
    {
      "cell_type": "markdown",
      "id": "c-4emXkbsBjc",
      "metadata": {
        "id": "c-4emXkbsBjc"
      },
      "source": [
        "# Segmenting Buildings using Deep Learning"
      ]
    },
    {
      "cell_type": "code",
      "execution_count": 91,
      "id": "acd8fdc7",
      "metadata": {
        "execution": {
          "iopub.execute_input": "2024-04-08T07:52:46.947409Z",
          "iopub.status.busy": "2024-04-08T07:52:46.946700Z",
          "iopub.status.idle": "2024-04-08T07:53:04.784441Z",
          "shell.execute_reply": "2024-04-08T07:53:04.783597Z"
        },
        "id": "acd8fdc7",
        "papermill": {
          "duration": 17.855037,
          "end_time": "2024-04-08T07:53:04.786944",
          "exception": false,
          "start_time": "2024-04-08T07:52:46.931907",
          "status": "completed"
        },
        "tags": []
      },
      "outputs": [],
      "source": [
        "import torch\n",
        "import torch.nn as nn\n",
        "import torch.nn.functional as F\n",
        "import torch.optim as optim\n",
        "from torchsummary import summary\n",
        "from torch.utils.data import Dataset, DataLoader\n",
        "from torch.utils.data.sampler import SubsetRandomSampler\n",
        "\n",
        "import numpy as np\n",
        "\n",
        "import matplotlib.pyplot as plt\n",
        "\n",
        "from torchvision import models, transforms\n",
        "\n",
        "\n",
        "import imageio.v2 as imageio\n",
        "\n",
        "import pandas as pd\n",
        "\n",
        "from pycocotools.coco import COCO\n",
        "\n",
        "import os\n"
      ]
    },
    {
      "cell_type": "markdown",
      "id": "1045d05b",
      "metadata": {},
      "source": [
        "# Loading Datasets"
      ]
    },
    {
      "cell_type": "code",
      "execution_count": 79,
      "id": "5X4WT1EqDPkF",
      "metadata": {
        "id": "5X4WT1EqDPkF"
      },
      "outputs": [],
      "source": [
        "import wget\n",
        "import zipfile\n",
        "\n",
        "\n",
        "if not os.path.exists(\"./dataset.zip\"):  # Check if the file exists\n",
        "    url = \"https://www.dropbox.com/scl/fi/u3plfspdkxpxgcqt2jvkw/dataset.zip?rlkey=z82kloxfxv5jwq8k1r91bwu38&dl=1\"\n",
        "    filename = wget.download(url)\n",
        "if not os.path.exists(\"./dataset\"):\n",
        "    with zipfile.ZipFile(\"./dataset.zip\", 'r') as zip_ref:\n",
        "        zip_ref.extractall('dataset')"
      ]
    },
    {
      "cell_type": "markdown",
      "id": "5c46693a",
      "metadata": {},
      "source": [
        "# Processing Datasets"
      ]
    },
    {
      "cell_type": "code",
      "execution_count": 80,
      "id": "db1c54a0",
      "metadata": {
        "execution": {
          "iopub.execute_input": "2024-04-08T07:53:04.816700Z",
          "iopub.status.busy": "2024-04-08T07:53:04.816136Z",
          "iopub.status.idle": "2024-04-08T07:53:04.828386Z",
          "shell.execute_reply": "2024-04-08T07:53:04.827401Z"
        },
        "id": "db1c54a0",
        "papermill": {
          "duration": 0.028989,
          "end_time": "2024-04-08T07:53:04.830621",
          "exception": false,
          "start_time": "2024-04-08T07:53:04.801632",
          "status": "completed"
        },
        "tags": []
      },
      "outputs": [],
      "source": [
        "\n",
        "HEIGHT = 32\n",
        "WIDTH = 32\n",
        "\n",
        "transform = transforms.Compose([\n",
        "    transforms.ToTensor(),\n",
        "    transforms.Resize((HEIGHT, WIDTH)),  # Swap HEIGHT and WIDTH here\n",
        "    transforms.CenterCrop((HEIGHT, WIDTH)),  # Swap HEIGHT and WIDTH here\n",
        "])\n",
        "\n",
        "class MyDataset(Dataset):\n",
        "    def __init__(self, image_folder, annotation_file):\n",
        "        self.coco = COCO(annotation_file)\n",
        "        self.image_folder = image_folder\n",
        "        self.image_ids = self.coco.getImgIds()\n",
        "\n",
        "    def __getitem__(self, index):\n",
        "        img_id = self.image_ids[index]\n",
        "        img_info = self.coco.loadImgs(img_id)[0]\n",
        "        img_path = os.path.join(self.image_folder, img_info['file_name'])\n",
        "        img = imageio.imread(img_path)\n",
        "        img = transform(img)\n",
        "\n",
        "        # Load the segmentation mask for the image\n",
        "        mask = self.load_mask(img_info)\n",
        "        mask = transforms.Resize((HEIGHT, WIDTH)).forward(mask)\n",
        "        \n",
        "\n",
        "        return {\"images\": img, \"masks\": mask}\n",
        "\n",
        "    def load_mask(self, img_info):\n",
        "        # Initialize a mask for all categories in the image with zeros\n",
        "        mask = np.zeros((img_info['height'], img_info['width']), dtype=np.uint8)\n",
        "\n",
        "        # Load the segmentation masks for each instance in the image\n",
        "        ann_ids = self.coco.getAnnIds(imgIds=img_info['id'], iscrowd=None)\n",
        "        anns = self.coco.loadAnns(ann_ids)\n",
        "\n",
        "        for ann in anns:\n",
        "            # Check if 'segmentation' is in polygon format or RLE\n",
        "            if type(ann['segmentation']) == list:\n",
        "                # If it's a list, assume it's polygons and convert to mask\n",
        "                for seg in ann['segmentation']:\n",
        "                    poly = np.array(seg).reshape((int(len(seg)/2), 2))\n",
        "                    mask |= self.coco.annToMask(ann)  # Use annToMask for polygons\n",
        "            else:\n",
        "                # If it's not a list, treat it as RLE\n",
        "                mask |= self.coco.annToMask(ann)  # Directly use RLE to create mask\n",
        "\n",
        "        # Convert the mask to a tensor\n",
        "        mask = torch.as_tensor(mask, dtype=torch.float32)  # Change dtype to float32\n",
        "        mask = mask.unsqueeze(0)\n",
        "\n",
        "        return mask\n",
        "\n",
        "    def __len__(self):\n",
        "        return len(self.image_ids)\n"
      ]
    },
    {
      "cell_type": "code",
      "execution_count": 81,
      "id": "16dd43ac",
      "metadata": {
        "colab": {
          "base_uri": "https://localhost:8080/"
        },
        "execution": {
          "iopub.execute_input": "2024-04-08T07:53:04.864940Z",
          "iopub.status.busy": "2024-04-08T07:53:04.864574Z",
          "iopub.status.idle": "2024-04-08T07:53:05.482118Z",
          "shell.execute_reply": "2024-04-08T07:53:05.481200Z"
        },
        "id": "16dd43ac",
        "outputId": "e12a7d21-1c15-420f-c727-a6a4c0262705",
        "papermill": {
          "duration": 0.638379,
          "end_time": "2024-04-08T07:53:05.484379",
          "exception": false,
          "start_time": "2024-04-08T07:53:04.846000",
          "status": "completed"
        },
        "tags": []
      },
      "outputs": [
        {
          "name": "stdout",
          "output_type": "stream",
          "text": [
            "loading annotations into memory...\n",
            "Done (t=1.76s)\n",
            "creating index...\n",
            "index created!\n"
          ]
        }
      ],
      "source": [
        "dataset = MyDataset(\"./dataset/train/\", \"./dataset/train/_annotations.coco.json\")"
      ]
    },
    {
      "cell_type": "markdown",
      "id": "6ac2f784",
      "metadata": {},
      "source": [
        "## Display some samples from the training dataset"
      ]
    },
    {
      "cell_type": "code",
      "execution_count": 157,
      "id": "d0c46806",
      "metadata": {
        "colab": {
          "base_uri": "https://localhost:8080/"
        },
        "execution": {
          "iopub.execute_input": "2024-04-08T07:53:05.513070Z",
          "iopub.status.busy": "2024-04-08T07:53:05.512781Z",
          "iopub.status.idle": "2024-04-08T07:53:06.074993Z",
          "shell.execute_reply": "2024-04-08T07:53:06.073521Z"
        },
        "id": "d0c46806",
        "outputId": "651f9882-b05f-4318-e60e-f3b3a05bb8d9",
        "papermill": {
          "duration": 0.580962,
          "end_time": "2024-04-08T07:53:06.079188",
          "exception": false,
          "start_time": "2024-04-08T07:53:05.498226",
          "status": "completed"
        },
        "tags": []
      },
      "outputs": [
        {
          "name": "stdout",
          "output_type": "stream",
          "text": [
            "torch.Size([3, 32, 32]) torch.Size([1, 32, 32])\n"
          ]
        },
        {
          "data": {
            "image/png": "[encoded data removed]",
            "text/plain": [
              "<Figure size 640x480 with 1 Axes>"
            ]
          },
          "metadata": {},
          "output_type": "display_data"
        },
        {
          "data": {
            "image/png": "[encoded data removed]",
            "text/plain": [
              "<Figure size 640x480 with 1 Axes>"
            ]
          },
          "metadata": {},
          "output_type": "display_data"
        },
        {
          "data": {
            "image/png": "[encoded data removed]",
            "text/plain": [
              "<Figure size 1200x400 with 2 Axes>"
            ]
          },
          "metadata": {},
          "output_type": "display_data"
        }
      ],
      "source": [
        "n = torch.randint(0, len(dataset), (1,)).item()\n",
        "\n",
        "sample_image = dataset[0][\"images\"]\n",
        "sample_image_mask = dataset[0][\"masks\"]\n",
        "print(sample_image.shape, sample_image_mask.shape)\n",
        "\n",
        "sample_image_numpy = sample_image.permute(1, 2, 0).cpu().numpy()\n",
        "sample_image_mask_numpy = sample_image_mask.squeeze().cpu().numpy()\n",
        "\n",
        "\n",
        "# Display the image\n",
        "plt.imshow(sample_image_numpy)\n",
        "plt.title(\"GT image\")\n",
        "plt.axis('off')  # Hide the axis\n",
        "plt.show()\n",
        "\n",
        "# Display the image\n",
        "plt.imshow(sample_image_mask_numpy)\n",
        "plt.title(\"GT mask\")\n",
        "plt.axis('off')  # Hide the axis\n",
        "plt.show()\n",
        "\n",
        "def overlay_image_mask(image, mask, title, threshold=1, generated_mask=None):\n",
        "\n",
        "    if isinstance(image, torch.Tensor):\n",
        "        image = image.permute(1, 2, 0).cpu().numpy()\n",
        "    if isinstance(mask, torch.Tensor):\n",
        "        mask = mask.squeeze().cpu().numpy()\n",
        "    if isinstance(generated_mask, torch.Tensor):\n",
        "        generated_mask = generated_mask.squeeze().cpu().numpy()\n",
        "\n",
        "        \n",
        "\n",
        "    # Check if image and mask have the same height and width\n",
        "    if image.shape[:2] != mask.shape:\n",
        "        raise ValueError(\"Image and mask must have the same height and width.\")\n",
        "    \n",
        "\n",
        "    # Configure subplots for multiple images\n",
        "    rows, cols = 1, (3 if generated_mask is not None else 2)\n",
        "    plt.figure(figsize=(12, 4 * rows))  # Adjust figsize as needed\n",
        "\n",
        "    # Plot original image\n",
        "    image_norm = image.astype(np.float32)\n",
        "    plt.subplot(rows, cols, 1)\n",
        "    plt.imshow(image_norm)\n",
        "    plt.title('Original Image')\n",
        "    plt.axis('off')\n",
        "\n",
        "    \n",
        "\n",
        "    # Plot image with mask overlay\n",
        "\n",
        "    mask_norm = mask.astype(np.float32)\n",
        "    overlapped_image_mask = np.copy(image_norm)\n",
        "    overlapped_image_mask[mask_norm >= threshold] = [0, 1, 0]  # Green for visualization (mask value of 1)\n",
        "    plt.subplot(rows, cols, 2)\n",
        "    plt.imshow(overlapped_image_mask)\n",
        "    plt.title('Image with GT Mask')\n",
        "    plt.axis('off')\n",
        "\n",
        "    # Plot generated mask (if provided)\n",
        "    if generated_mask is not None:\n",
        "        generated_mask_norm = generated_mask.astype(np.float32)\n",
        "        overlapped_image_genereate_mask = np.copy(image_norm)\n",
        "        overlapped_image_genereate_mask[generated_mask_norm >= threshold] = [0, 1, 0]  # Green for visualization (mask value of 1)\n",
        "        plt.subplot(rows, cols, 3)\n",
        "        plt.imshow(overlapped_image_genereate_mask, cmap='gray')  # Use grayscale for mask visualization\n",
        "        plt.title('Image with Generated Mask')\n",
        "        plt.axis('off')\n",
        "\n",
        "    plt.suptitle(title)  # Overall title for the subplots\n",
        "    plt.tight_layout()\n",
        "    plt.show()\n",
        "\n",
        "\n",
        "\n",
        "overlay_image_mask(sample_image, sample_image_mask, \"Result\", 0.8)\n"
      ]
    },
    {
      "cell_type": "markdown",
      "id": "2a7727f7",
      "metadata": {},
      "source": [
        "## Creating train dataloader"
      ]
    },
    {
      "cell_type": "code",
      "execution_count": 83,
      "id": "04f8398c",
      "metadata": {
        "execution": {
          "iopub.execute_input": "2024-04-08T07:53:06.146150Z",
          "iopub.status.busy": "2024-04-08T07:53:06.145426Z",
          "iopub.status.idle": "2024-04-08T07:53:06.150523Z",
          "shell.execute_reply": "2024-04-08T07:53:06.149418Z"
        },
        "id": "04f8398c",
        "papermill": {
          "duration": 0.030435,
          "end_time": "2024-04-08T07:53:06.152599",
          "exception": false,
          "start_time": "2024-04-08T07:53:06.122164",
          "status": "completed"
        },
        "tags": []
      },
      "outputs": [],
      "source": [
        "batch_size = 32\n",
        "shuffle = True\n",
        "\n",
        "train_dataloader = DataLoader(dataset, batch_size=batch_size, shuffle=shuffle)"
      ]
    },
    {
      "cell_type": "code",
      "execution_count": 93,
      "id": "1c416517",
      "metadata": {
        "colab": {
          "base_uri": "https://localhost:8080/"
        },
        "execution": {
          "iopub.execute_input": "2024-04-08T07:53:06.188341Z",
          "iopub.status.busy": "2024-04-08T07:53:06.188029Z",
          "iopub.status.idle": "2024-04-08T07:53:08.613235Z",
          "shell.execute_reply": "2024-04-08T07:53:08.612167Z"
        },
        "id": "1c416517",
        "outputId": "63c1d7f1-3a71-453c-fa2d-3d5595cf9f49",
        "papermill": {
          "duration": 2.449914,
          "end_time": "2024-04-08T07:53:08.620117",
          "exception": false,
          "start_time": "2024-04-08T07:53:06.170203",
          "status": "completed"
        },
        "tags": []
      },
      "outputs": [
        {
          "name": "stdout",
          "output_type": "stream",
          "text": [
            "32\n"
          ]
        }
      ],
      "source": [
        "batch = next(iter(train_dataloader))\n",
        "\n",
        "# Extract images and masks from the batch\n",
        "batch_images = batch[\"images\"]\n",
        "batch_masks = batch[\"masks\"]\n",
        "\n",
        "batch_size = batch_images.size(0)  # Get the batch size\n",
        "\n",
        "print(batch_size)"
      ]
    },
    {
      "cell_type": "markdown",
      "id": "4b6ee218",
      "metadata": {},
      "source": [
        "# Model"
      ]
    },
    {
      "cell_type": "markdown",
      "id": "8b3e160c",
      "metadata": {},
      "source": [
        "## Importing DeepLabv3+ Model"
      ]
    },
    {
      "cell_type": "code",
      "execution_count": 85,
      "id": "93e3f674",
      "metadata": {},
      "outputs": [],
      "source": [
        "from models.deeplabv3plus import Model"
      ]
    },
    {
      "cell_type": "code",
      "execution_count": 86,
      "id": "55b4480f",
      "metadata": {},
      "outputs": [
        {
          "name": "stdout",
          "output_type": "stream",
          "text": [
            "----------------------------------------------------------------\n",
            "        Layer (type)               Output Shape         Param #\n",
            "================================================================\n",
            "            Conv2d-1           [-1, 64, 16, 16]           9,408\n",
            "            Conv2d-2           [-1, 64, 16, 16]           9,408\n",
            "       BatchNorm2d-3           [-1, 64, 16, 16]             128\n",
            "       BatchNorm2d-4           [-1, 64, 16, 16]             128\n",
            "              ReLU-5           [-1, 64, 16, 16]               0\n",
            "              ReLU-6           [-1, 64, 16, 16]               0\n",
            "         MaxPool2d-7             [-1, 64, 8, 8]               0\n",
            "         MaxPool2d-8             [-1, 64, 8, 8]               0\n",
            "            Conv2d-9             [-1, 64, 8, 8]           4,096\n",
            "           Conv2d-10             [-1, 64, 8, 8]           4,096\n",
            "      BatchNorm2d-11             [-1, 64, 8, 8]             128\n",
            "      BatchNorm2d-12             [-1, 64, 8, 8]             128\n",
            "             ReLU-13             [-1, 64, 8, 8]               0\n",
            "             ReLU-14             [-1, 64, 8, 8]               0\n",
            "           Conv2d-15             [-1, 64, 8, 8]          36,864\n",
            "           Conv2d-16             [-1, 64, 8, 8]          36,864\n",
            "      BatchNorm2d-17             [-1, 64, 8, 8]             128\n",
            "      BatchNorm2d-18             [-1, 64, 8, 8]             128\n",
            "             ReLU-19             [-1, 64, 8, 8]               0\n",
            "             ReLU-20             [-1, 64, 8, 8]               0\n",
            "           Conv2d-21            [-1, 256, 8, 8]          16,384\n",
            "           Conv2d-22            [-1, 256, 8, 8]          16,384\n",
            "      BatchNorm2d-23            [-1, 256, 8, 8]             512\n",
            "      BatchNorm2d-24            [-1, 256, 8, 8]             512\n",
            "           Conv2d-25            [-1, 256, 8, 8]          16,384\n",
            "           Conv2d-26            [-1, 256, 8, 8]          16,384\n",
            "      BatchNorm2d-27            [-1, 256, 8, 8]             512\n",
            "      BatchNorm2d-28            [-1, 256, 8, 8]             512\n",
            "             ReLU-29            [-1, 256, 8, 8]               0\n",
            "             ReLU-30            [-1, 256, 8, 8]               0\n",
            "       Bottleneck-31            [-1, 256, 8, 8]               0\n",
            "       Bottleneck-32            [-1, 256, 8, 8]               0\n",
            "           Conv2d-33             [-1, 64, 8, 8]          16,384\n",
            "           Conv2d-34             [-1, 64, 8, 8]          16,384\n",
            "      BatchNorm2d-35             [-1, 64, 8, 8]             128\n",
            "      BatchNorm2d-36             [-1, 64, 8, 8]             128\n",
            "             ReLU-37             [-1, 64, 8, 8]               0\n",
            "             ReLU-38             [-1, 64, 8, 8]               0\n",
            "           Conv2d-39             [-1, 64, 8, 8]          36,864\n",
            "           Conv2d-40             [-1, 64, 8, 8]          36,864\n",
            "      BatchNorm2d-41             [-1, 64, 8, 8]             128\n",
            "      BatchNorm2d-42             [-1, 64, 8, 8]             128\n",
            "             ReLU-43             [-1, 64, 8, 8]               0\n",
            "             ReLU-44             [-1, 64, 8, 8]               0\n",
            "           Conv2d-45            [-1, 256, 8, 8]          16,384\n",
            "           Conv2d-46            [-1, 256, 8, 8]          16,384\n",
            "      BatchNorm2d-47            [-1, 256, 8, 8]             512\n",
            "      BatchNorm2d-48            [-1, 256, 8, 8]             512\n",
            "             ReLU-49            [-1, 256, 8, 8]               0\n",
            "             ReLU-50            [-1, 256, 8, 8]               0\n",
            "       Bottleneck-51            [-1, 256, 8, 8]               0\n",
            "       Bottleneck-52            [-1, 256, 8, 8]               0\n",
            "           Conv2d-53             [-1, 64, 8, 8]          16,384\n",
            "           Conv2d-54             [-1, 64, 8, 8]          16,384\n",
            "      BatchNorm2d-55             [-1, 64, 8, 8]             128\n",
            "      BatchNorm2d-56             [-1, 64, 8, 8]             128\n",
            "             ReLU-57             [-1, 64, 8, 8]               0\n",
            "             ReLU-58             [-1, 64, 8, 8]               0\n",
            "           Conv2d-59             [-1, 64, 8, 8]          36,864\n",
            "           Conv2d-60             [-1, 64, 8, 8]          36,864\n",
            "      BatchNorm2d-61             [-1, 64, 8, 8]             128\n",
            "      BatchNorm2d-62             [-1, 64, 8, 8]             128\n",
            "             ReLU-63             [-1, 64, 8, 8]               0\n",
            "             ReLU-64             [-1, 64, 8, 8]               0\n",
            "           Conv2d-65            [-1, 256, 8, 8]          16,384\n",
            "           Conv2d-66            [-1, 256, 8, 8]          16,384\n",
            "      BatchNorm2d-67            [-1, 256, 8, 8]             512\n",
            "      BatchNorm2d-68            [-1, 256, 8, 8]             512\n",
            "             ReLU-69            [-1, 256, 8, 8]               0\n",
            "             ReLU-70            [-1, 256, 8, 8]               0\n",
            "       Bottleneck-71            [-1, 256, 8, 8]               0\n",
            "       Bottleneck-72            [-1, 256, 8, 8]               0\n",
            "           Conv2d-73            [-1, 128, 8, 8]          32,768\n",
            "      BatchNorm2d-74            [-1, 128, 8, 8]             256\n",
            "             ReLU-75            [-1, 128, 8, 8]               0\n",
            "           Conv2d-76            [-1, 128, 4, 4]         147,456\n",
            "      BatchNorm2d-77            [-1, 128, 4, 4]             256\n",
            "             ReLU-78            [-1, 128, 4, 4]               0\n",
            "           Conv2d-79            [-1, 512, 4, 4]          65,536\n",
            "      BatchNorm2d-80            [-1, 512, 4, 4]           1,024\n",
            "           Conv2d-81            [-1, 512, 4, 4]         131,072\n",
            "      BatchNorm2d-82            [-1, 512, 4, 4]           1,024\n",
            "             ReLU-83            [-1, 512, 4, 4]               0\n",
            "       Bottleneck-84            [-1, 512, 4, 4]               0\n",
            "           Conv2d-85            [-1, 128, 4, 4]          65,536\n",
            "      BatchNorm2d-86            [-1, 128, 4, 4]             256\n",
            "             ReLU-87            [-1, 128, 4, 4]               0\n",
            "           Conv2d-88            [-1, 128, 4, 4]         147,456\n",
            "      BatchNorm2d-89            [-1, 128, 4, 4]             256\n",
            "             ReLU-90            [-1, 128, 4, 4]               0\n",
            "           Conv2d-91            [-1, 512, 4, 4]          65,536\n",
            "      BatchNorm2d-92            [-1, 512, 4, 4]           1,024\n",
            "             ReLU-93            [-1, 512, 4, 4]               0\n",
            "       Bottleneck-94            [-1, 512, 4, 4]               0\n",
            "           Conv2d-95            [-1, 128, 4, 4]          65,536\n",
            "      BatchNorm2d-96            [-1, 128, 4, 4]             256\n",
            "             ReLU-97            [-1, 128, 4, 4]               0\n",
            "           Conv2d-98            [-1, 128, 4, 4]         147,456\n",
            "      BatchNorm2d-99            [-1, 128, 4, 4]             256\n",
            "            ReLU-100            [-1, 128, 4, 4]               0\n",
            "          Conv2d-101            [-1, 512, 4, 4]          65,536\n",
            "     BatchNorm2d-102            [-1, 512, 4, 4]           1,024\n",
            "            ReLU-103            [-1, 512, 4, 4]               0\n",
            "      Bottleneck-104            [-1, 512, 4, 4]               0\n",
            "          Conv2d-105            [-1, 128, 4, 4]          65,536\n",
            "     BatchNorm2d-106            [-1, 128, 4, 4]             256\n",
            "            ReLU-107            [-1, 128, 4, 4]               0\n",
            "          Conv2d-108            [-1, 128, 4, 4]         147,456\n",
            "     BatchNorm2d-109            [-1, 128, 4, 4]             256\n",
            "            ReLU-110            [-1, 128, 4, 4]               0\n",
            "          Conv2d-111            [-1, 512, 4, 4]          65,536\n",
            "     BatchNorm2d-112            [-1, 512, 4, 4]           1,024\n",
            "            ReLU-113            [-1, 512, 4, 4]               0\n",
            "      Bottleneck-114            [-1, 512, 4, 4]               0\n",
            "          Conv2d-115            [-1, 256, 4, 4]         131,072\n",
            "     BatchNorm2d-116            [-1, 256, 4, 4]             512\n",
            "            ReLU-117            [-1, 256, 4, 4]               0\n",
            "          Conv2d-118            [-1, 256, 2, 2]         589,824\n",
            "     BatchNorm2d-119            [-1, 256, 2, 2]             512\n",
            "            ReLU-120            [-1, 256, 2, 2]               0\n",
            "          Conv2d-121           [-1, 1024, 2, 2]         262,144\n",
            "     BatchNorm2d-122           [-1, 1024, 2, 2]           2,048\n",
            "          Conv2d-123           [-1, 1024, 2, 2]         524,288\n",
            "     BatchNorm2d-124           [-1, 1024, 2, 2]           2,048\n",
            "            ReLU-125           [-1, 1024, 2, 2]               0\n",
            "      Bottleneck-126           [-1, 1024, 2, 2]               0\n",
            "          Conv2d-127            [-1, 256, 2, 2]         262,144\n",
            "     BatchNorm2d-128            [-1, 256, 2, 2]             512\n",
            "            ReLU-129            [-1, 256, 2, 2]               0\n",
            "          Conv2d-130            [-1, 256, 2, 2]         589,824\n",
            "     BatchNorm2d-131            [-1, 256, 2, 2]             512\n",
            "            ReLU-132            [-1, 256, 2, 2]               0\n",
            "          Conv2d-133           [-1, 1024, 2, 2]         262,144\n",
            "     BatchNorm2d-134           [-1, 1024, 2, 2]           2,048\n",
            "            ReLU-135           [-1, 1024, 2, 2]               0\n",
            "      Bottleneck-136           [-1, 1024, 2, 2]               0\n",
            "          Conv2d-137            [-1, 256, 2, 2]         262,144\n",
            "     BatchNorm2d-138            [-1, 256, 2, 2]             512\n",
            "            ReLU-139            [-1, 256, 2, 2]               0\n",
            "          Conv2d-140            [-1, 256, 2, 2]         589,824\n",
            "     BatchNorm2d-141            [-1, 256, 2, 2]             512\n",
            "            ReLU-142            [-1, 256, 2, 2]               0\n",
            "          Conv2d-143           [-1, 1024, 2, 2]         262,144\n",
            "     BatchNorm2d-144           [-1, 1024, 2, 2]           2,048\n",
            "            ReLU-145           [-1, 1024, 2, 2]               0\n",
            "      Bottleneck-146           [-1, 1024, 2, 2]               0\n",
            "          Conv2d-147            [-1, 256, 2, 2]         262,144\n",
            "     BatchNorm2d-148            [-1, 256, 2, 2]             512\n",
            "            ReLU-149            [-1, 256, 2, 2]               0\n",
            "          Conv2d-150            [-1, 256, 2, 2]         589,824\n",
            "     BatchNorm2d-151            [-1, 256, 2, 2]             512\n",
            "            ReLU-152            [-1, 256, 2, 2]               0\n",
            "          Conv2d-153           [-1, 1024, 2, 2]         262,144\n",
            "     BatchNorm2d-154           [-1, 1024, 2, 2]           2,048\n",
            "            ReLU-155           [-1, 1024, 2, 2]               0\n",
            "      Bottleneck-156           [-1, 1024, 2, 2]               0\n",
            "          Conv2d-157            [-1, 256, 2, 2]         262,144\n",
            "     BatchNorm2d-158            [-1, 256, 2, 2]             512\n",
            "            ReLU-159            [-1, 256, 2, 2]               0\n",
            "          Conv2d-160            [-1, 256, 2, 2]         589,824\n",
            "     BatchNorm2d-161            [-1, 256, 2, 2]             512\n",
            "            ReLU-162            [-1, 256, 2, 2]               0\n",
            "          Conv2d-163           [-1, 1024, 2, 2]         262,144\n",
            "     BatchNorm2d-164           [-1, 1024, 2, 2]           2,048\n",
            "            ReLU-165           [-1, 1024, 2, 2]               0\n",
            "      Bottleneck-166           [-1, 1024, 2, 2]               0\n",
            "          Conv2d-167            [-1, 256, 2, 2]         262,144\n",
            "     BatchNorm2d-168            [-1, 256, 2, 2]             512\n",
            "            ReLU-169            [-1, 256, 2, 2]               0\n",
            "          Conv2d-170            [-1, 256, 2, 2]         589,824\n",
            "     BatchNorm2d-171            [-1, 256, 2, 2]             512\n",
            "            ReLU-172            [-1, 256, 2, 2]               0\n",
            "          Conv2d-173           [-1, 1024, 2, 2]         262,144\n",
            "     BatchNorm2d-174           [-1, 1024, 2, 2]           2,048\n",
            "            ReLU-175           [-1, 1024, 2, 2]               0\n",
            "      Bottleneck-176           [-1, 1024, 2, 2]               0\n",
            "          Conv2d-177            [-1, 256, 2, 2]         262,144\n",
            "     BatchNorm2d-178            [-1, 256, 2, 2]             512\n",
            "          Conv2d-179            [-1, 256, 2, 2]       2,359,296\n",
            "     BatchNorm2d-180            [-1, 256, 2, 2]             512\n",
            "          Conv2d-181            [-1, 256, 2, 2]       2,359,296\n",
            "     BatchNorm2d-182            [-1, 256, 2, 2]             512\n",
            "          Conv2d-183            [-1, 256, 2, 2]       2,359,296\n",
            "     BatchNorm2d-184            [-1, 256, 2, 2]             512\n",
            "          Conv2d-185            [-1, 256, 1, 1]         262,144\n",
            "     BatchNorm2d-186            [-1, 256, 1, 1]             512\n",
            "          Conv2d-187            [-1, 256, 2, 2]         327,680\n",
            "     BatchNorm2d-188            [-1, 256, 2, 2]             512\n",
            "            ASPP-189            [-1, 256, 2, 2]               0\n",
            "        Upsample-190            [-1, 256, 8, 8]               0\n",
            "          Conv2d-191           [-1, 64, 16, 16]           9,408\n",
            "          Conv2d-192           [-1, 64, 16, 16]           9,408\n",
            "     BatchNorm2d-193           [-1, 64, 16, 16]             128\n",
            "     BatchNorm2d-194           [-1, 64, 16, 16]             128\n",
            "            ReLU-195           [-1, 64, 16, 16]               0\n",
            "            ReLU-196           [-1, 64, 16, 16]               0\n",
            "       MaxPool2d-197             [-1, 64, 8, 8]               0\n",
            "       MaxPool2d-198             [-1, 64, 8, 8]               0\n",
            "          Conv2d-199             [-1, 64, 8, 8]           4,096\n",
            "          Conv2d-200             [-1, 64, 8, 8]           4,096\n",
            "     BatchNorm2d-201             [-1, 64, 8, 8]             128\n",
            "     BatchNorm2d-202             [-1, 64, 8, 8]             128\n",
            "            ReLU-203             [-1, 64, 8, 8]               0\n",
            "            ReLU-204             [-1, 64, 8, 8]               0\n",
            "          Conv2d-205             [-1, 64, 8, 8]          36,864\n",
            "          Conv2d-206             [-1, 64, 8, 8]          36,864\n",
            "     BatchNorm2d-207             [-1, 64, 8, 8]             128\n",
            "     BatchNorm2d-208             [-1, 64, 8, 8]             128\n",
            "            ReLU-209             [-1, 64, 8, 8]               0\n",
            "            ReLU-210             [-1, 64, 8, 8]               0\n",
            "          Conv2d-211            [-1, 256, 8, 8]          16,384\n",
            "          Conv2d-212            [-1, 256, 8, 8]          16,384\n",
            "     BatchNorm2d-213            [-1, 256, 8, 8]             512\n",
            "     BatchNorm2d-214            [-1, 256, 8, 8]             512\n",
            "          Conv2d-215            [-1, 256, 8, 8]          16,384\n",
            "          Conv2d-216            [-1, 256, 8, 8]          16,384\n",
            "     BatchNorm2d-217            [-1, 256, 8, 8]             512\n",
            "     BatchNorm2d-218            [-1, 256, 8, 8]             512\n",
            "            ReLU-219            [-1, 256, 8, 8]               0\n",
            "            ReLU-220            [-1, 256, 8, 8]               0\n",
            "      Bottleneck-221            [-1, 256, 8, 8]               0\n",
            "      Bottleneck-222            [-1, 256, 8, 8]               0\n",
            "          Conv2d-223             [-1, 64, 8, 8]          16,384\n",
            "          Conv2d-224             [-1, 64, 8, 8]          16,384\n",
            "     BatchNorm2d-225             [-1, 64, 8, 8]             128\n",
            "     BatchNorm2d-226             [-1, 64, 8, 8]             128\n",
            "            ReLU-227             [-1, 64, 8, 8]               0\n",
            "            ReLU-228             [-1, 64, 8, 8]               0\n",
            "          Conv2d-229             [-1, 64, 8, 8]          36,864\n",
            "          Conv2d-230             [-1, 64, 8, 8]          36,864\n",
            "     BatchNorm2d-231             [-1, 64, 8, 8]             128\n",
            "     BatchNorm2d-232             [-1, 64, 8, 8]             128\n",
            "            ReLU-233             [-1, 64, 8, 8]               0\n",
            "            ReLU-234             [-1, 64, 8, 8]               0\n",
            "          Conv2d-235            [-1, 256, 8, 8]          16,384\n",
            "          Conv2d-236            [-1, 256, 8, 8]          16,384\n",
            "     BatchNorm2d-237            [-1, 256, 8, 8]             512\n",
            "     BatchNorm2d-238            [-1, 256, 8, 8]             512\n",
            "            ReLU-239            [-1, 256, 8, 8]               0\n",
            "            ReLU-240            [-1, 256, 8, 8]               0\n",
            "      Bottleneck-241            [-1, 256, 8, 8]               0\n",
            "      Bottleneck-242            [-1, 256, 8, 8]               0\n",
            "          Conv2d-243             [-1, 64, 8, 8]          16,384\n",
            "          Conv2d-244             [-1, 64, 8, 8]          16,384\n",
            "     BatchNorm2d-245             [-1, 64, 8, 8]             128\n",
            "     BatchNorm2d-246             [-1, 64, 8, 8]             128\n",
            "            ReLU-247             [-1, 64, 8, 8]               0\n",
            "            ReLU-248             [-1, 64, 8, 8]               0\n",
            "          Conv2d-249             [-1, 64, 8, 8]          36,864\n",
            "          Conv2d-250             [-1, 64, 8, 8]          36,864\n",
            "     BatchNorm2d-251             [-1, 64, 8, 8]             128\n",
            "     BatchNorm2d-252             [-1, 64, 8, 8]             128\n",
            "            ReLU-253             [-1, 64, 8, 8]               0\n",
            "            ReLU-254             [-1, 64, 8, 8]               0\n",
            "          Conv2d-255            [-1, 256, 8, 8]          16,384\n",
            "          Conv2d-256            [-1, 256, 8, 8]          16,384\n",
            "     BatchNorm2d-257            [-1, 256, 8, 8]             512\n",
            "     BatchNorm2d-258            [-1, 256, 8, 8]             512\n",
            "            ReLU-259            [-1, 256, 8, 8]               0\n",
            "            ReLU-260            [-1, 256, 8, 8]               0\n",
            "      Bottleneck-261            [-1, 256, 8, 8]               0\n",
            "      Bottleneck-262            [-1, 256, 8, 8]               0\n",
            "          Conv2d-263             [-1, 48, 8, 8]          12,288\n",
            "     BatchNorm2d-264             [-1, 48, 8, 8]              96\n",
            "          Conv2d-265            [-1, 256, 8, 8]         700,416\n",
            "     BatchNorm2d-266            [-1, 256, 8, 8]             512\n",
            "        Upsample-267          [-1, 256, 32, 32]               0\n",
            "          Conv2d-268            [-1, 1, 32, 32]             256\n",
            "================================================================\n",
            "Total params: 17,865,824\n",
            "Trainable params: 17,865,824\n",
            "Non-trainable params: 0\n",
            "----------------------------------------------------------------\n",
            "Input size (MB): 0.01\n",
            "Forward/backward pass size (MB): 16.20\n",
            "Params size (MB): 68.15\n",
            "Estimated Total Size (MB): 84.36\n",
            "----------------------------------------------------------------\n"
          ]
        }
      ],
      "source": [
        "from torchsummary import summary\n",
        "\n",
        "resnet = models.resnet50(pretrained=True) # ResNet Arch\n",
        "model = Model(resnet, 1)\n",
        "summary(model, (3, HEIGHT, WIDTH))"
      ]
    },
    {
      "cell_type": "code",
      "execution_count": 87,
      "id": "31a47d40",
      "metadata": {},
      "outputs": [
        {
          "data": {
            "text/plain": [
              "torch.Size([32, 1, 32, 32])"
            ]
          },
          "execution_count": 87,
          "metadata": {},
          "output_type": "execute_result"
        }
      ],
      "source": [
        "input = batch[\"images\"]\n",
        "model(input).shape"
      ]
    },
    {
      "cell_type": "markdown",
      "id": "3975f9b1",
      "metadata": {
        "id": "3975f9b1",
        "papermill": {
          "duration": 0.025018,
          "end_time": "2024-04-08T07:53:08.670154",
          "exception": false,
          "start_time": "2024-04-08T07:53:08.645136",
          "status": "completed"
        },
        "tags": []
      },
      "source": [
        "# Training"
      ]
    },
    {
      "cell_type": "code",
      "execution_count": 89,
      "id": "966d72f1",
      "metadata": {},
      "outputs": [
        {
          "name": "stderr",
          "output_type": "stream",
          "text": [
            "Epoch 1/5:   0%|          | 0/423 [00:00<?, ?batch/s]C:\\Users\\ammar\\AppData\\Local\\Temp\\ipykernel_60180\\2820321857.py:20: DeprecationWarning: Starting with ImageIO v3 the behavior of this function will switch to that of iio.v3.imread. To keep the current behavior (and make this warning disappear) use `import imageio.v2 as imageio` or call `imageio.v2.imread` directly.\n",
            "  img = imageio.imread(img_path)\n",
            "Epoch 1/5: 100%|██████████| 423/423 [05:37<00:00,  1.26batch/s]\n"
          ]
        },
        {
          "name": "stdout",
          "output_type": "stream",
          "text": [
            "Epoch 1/5, Loss: 0.2816\n"
          ]
        },
        {
          "name": "stderr",
          "output_type": "stream",
          "text": [
            "Epoch 2/5: 100%|██████████| 423/423 [05:48<00:00,  1.22batch/s]\n"
          ]
        },
        {
          "name": "stdout",
          "output_type": "stream",
          "text": [
            "Epoch 2/5, Loss: 0.2750\n"
          ]
        },
        {
          "name": "stderr",
          "output_type": "stream",
          "text": [
            "Epoch 3/5: 100%|██████████| 423/423 [05:37<00:00,  1.25batch/s]\n"
          ]
        },
        {
          "name": "stdout",
          "output_type": "stream",
          "text": [
            "Epoch 3/5, Loss: 0.2704\n"
          ]
        },
        {
          "name": "stderr",
          "output_type": "stream",
          "text": [
            "Epoch 4/5: 100%|██████████| 423/423 [05:41<00:00,  1.24batch/s]\n"
          ]
        },
        {
          "name": "stdout",
          "output_type": "stream",
          "text": [
            "Epoch 4/5, Loss: 0.2658\n"
          ]
        },
        {
          "name": "stderr",
          "output_type": "stream",
          "text": [
            "Epoch 5/5: 100%|██████████| 423/423 [05:45<00:00,  1.22batch/s]"
          ]
        },
        {
          "name": "stdout",
          "output_type": "stream",
          "text": [
            "Epoch 5/5, Loss: 0.2609\n"
          ]
        },
        {
          "name": "stderr",
          "output_type": "stream",
          "text": [
            "\n"
          ]
        }
      ],
      "source": [
        "from tqdm import tqdm\n",
        "\n",
        "\n",
        "def train(model, train_dataloader, criterion, optimizer, device, epochs=1, save_path=None):\n",
        "    model.train()\n",
        "    model.to(device)\n",
        "    \n",
        "    for epoch in range(epochs):\n",
        "        running_loss = 0.0\n",
        "        for batch in tqdm(train_dataloader, desc=f\"Epoch {epoch+1}/{epochs}\", unit=\"batch\"):\n",
        "            # torch.Size([32, 3, HEIGHT, WIDTH]) torch.Size([32, 1, HEIGHT, WIDTH])\n",
        "            images, masks = batch[\"images\"].to(device), batch[\"masks\"].to(device) \n",
        "            \n",
        "            optimizer.zero_grad()\n",
        "            \n",
        "            outputs = model(images)\n",
        "\n",
        "            loss = criterion(outputs, masks)\n",
        "            loss.backward()\n",
        "            optimizer.step()\n",
        "            \n",
        "            running_loss += loss.item()\n",
        "        \n",
        "        epoch_loss = running_loss / len(train_dataloader)\n",
        "        print(f\"Epoch {epoch+1}/{epochs}, Loss: {epoch_loss:.4f}\")\n",
        "        \n",
        "        # Save the model\n",
        "        if save_path:\n",
        "            if not os.path.exists(save_path):\n",
        "                os.makedirs(save_path)\n",
        "            torch.save(model.state_dict(), os.path.join(save_path, f\"model_epoch_{epoch+1}.pt\"))\n",
        "\n",
        "\n",
        "# Define the directory to save the model\n",
        "save_path = \"saved_models\"\n",
        "\n",
        "saved_weights_path = \"saved_models/model_epoch_5.pt\"  \n",
        "if os.path.exists(saved_weights_path):\n",
        "    model.load_state_dict(torch.load(saved_weights_path))\n",
        "\n",
        "\n",
        "# Define device\n",
        "device = torch.device(\"cuda\" if torch.cuda.is_available() else \"cpu\")\n",
        "\n",
        "# Define loss function and optimizer\n",
        "criterion = nn.BCELoss()\n",
        "optimizer = optim.Adam(model.parameters(), lr=0.001)\n",
        "\n",
        "# Train the model\n",
        "train(model, train_dataloader, criterion, optimizer, device, epochs=5, save_path=save_path)\n"
      ]
    },
    {
      "cell_type": "code",
      "execution_count": 94,
      "id": "b819fc5a",
      "metadata": {},
      "outputs": [
        {
          "name": "stdout",
          "output_type": "stream",
          "text": [
            "loading annotations into memory...\n",
            "Done (t=0.05s)\n",
            "creating index...\n",
            "index created!\n"
          ]
        },
        {
          "name": "stderr",
          "output_type": "stream",
          "text": [
            "Testing: 100%|██████████| 31/31 [00:14<00:00,  2.08batch/s]"
          ]
        },
        {
          "name": "stdout",
          "output_type": "stream",
          "text": [
            "Test Loss: 0.2876\n"
          ]
        },
        {
          "name": "stderr",
          "output_type": "stream",
          "text": [
            "\n"
          ]
        }
      ],
      "source": [
        "import matplotlib.pyplot as plt\n",
        "\n",
        "def test(model, test_dataloader, criterion, device):\n",
        "    model.eval()  # Set the model to evaluation mode\n",
        "    model.to(device)\n",
        "    \n",
        "    running_loss = 0.0\n",
        "    num_samples = 0\n",
        "    \n",
        "    with torch.no_grad():\n",
        "        for batch in tqdm(test_dataloader, desc=\"Testing\", unit=\"batch\"):\n",
        "            # Move data to device\n",
        "            images, masks = batch[\"images\"].to(device), batch[\"masks\"].to(device)\n",
        "            \n",
        "            # Forward pass\n",
        "            outputs = model(images)\n",
        "            \n",
        "            # Calculate loss\n",
        "            loss = criterion(outputs, masks)\n",
        "            running_loss += loss.item() * images.size(0)  # Multiply by batch size\n",
        "            \n",
        "            num_samples += images.size(0)  # Accumulate number of samples\n",
        "        \n",
        "        # Calculate average loss\n",
        "        test_loss = running_loss / num_samples\n",
        "        print(f\"Test Loss: {test_loss:.4f}\")\n",
        "\n",
        "# Example usage:\n",
        "# Assuming you have a test dataset named `test_dataset` and a model named `model`\n",
        "\n",
        "# Define device\n",
        "device = torch.device(\"cuda\" if torch.cuda.is_available() else \"cpu\")\n",
        "\n",
        "test_dataset = MyDataset(\"./dataset/test/\", \"./dataset/test/_annotations.coco.json\")\n",
        "\n",
        "# Define test loader\n",
        "test_dataloader = DataLoader(test_dataset, batch_size=32, shuffle=False)\n",
        "\n",
        "# Test the model\n",
        "test(model, test_dataloader, criterion, device)\n"
      ]
    },
    {
      "cell_type": "markdown",
      "id": "16df7048",
      "metadata": {},
      "source": [
        "## Test GT VS Generated\n"
      ]
    },
    {
      "cell_type": "code",
      "execution_count": 158,
      "id": "4ac0db45",
      "metadata": {},
      "outputs": [
        {
          "data": {
            "image/png": "[encoded data removed]",
            "text/plain": [
              "<Figure size 1200x400 with 3 Axes>"
            ]
          },
          "metadata": {},
          "output_type": "display_data"
        },
        {
          "data": {
            "image/png": "[encoded data removed]",
            "text/plain": [
              "<Figure size 1200x400 with 3 Axes>"
            ]
          },
          "metadata": {},
          "output_type": "display_data"
        },
        {
          "data": {
            "image/png": "[encoded data removed]",
            "text/plain": [
              "<Figure size 1200x400 with 3 Axes>"
            ]
          },
          "metadata": {},
          "output_type": "display_data"
        },
        {
          "data": {
            "image/png": "[encoded data removed]",
            "text/plain": [
              "<Figure size 1200x400 with 3 Axes>"
            ]
          },
          "metadata": {},
          "output_type": "display_data"
        },
        {
          "data": {
            "image/png": "[encoded data removed]",
            "text/plain": [
              "<Figure size 1200x400 with 3 Axes>"
            ]
          },
          "metadata": {},
          "output_type": "display_data"
        }
      ],
      "source": [
        "test_batch = next(iter(test_dataloader))\n",
        "images = test_batch[\"images\"][0:5]\n",
        "GT_masks = test_batch[\"masks\"][0:5]\n",
        "generated_masks = model(test_batch[\"images\"])[0:5]\n",
        "\n",
        "\n",
        "# Convert tensors to numpy arrays\n",
        "GT_masks_np = GT_masks.cpu().numpy()\n",
        "# outputs_np = torch.argmax(outputs, dim=1).cpu().numpy()\n",
        "generated_masks_np = generated_masks.cpu().detach().numpy()\n",
        "\n",
        "threshold = 0.5\n",
        "\n",
        "for i in range(len(images)):\n",
        "\n",
        "    \n",
        "    generated_masks_np[i, 0] = generated_masks_np[i, 0] > threshold\n",
        "    overlay_image_mask(images[i], GT_masks_np[i, 0], \"Result\", threshold, generated_masks_np[i, 0])\n",
        "    \n",
        "\n"
      ]
    },
    {
      "cell_type": "code",
      "execution_count": null,
      "id": "49ebf50b",
      "metadata": {},
      "outputs": [],
      "source": []
    }
  ],
  "metadata": {
    "accelerator": "GPU",
    "colab": {
      "gpuType": "T4",
      "provenance": []
    },
    "kaggle": {
      "accelerator": "nvidiaTeslaT4",
      "dataSources": [
        {
          "datasetId": 4746148,
          "sourceId": 8048501,
          "sourceType": "datasetVersion"
        },
        {
          "datasetId": 4752514,
          "sourceId": 8057523,
          "sourceType": "datasetVersion"
        },
        {
          "isSourceIdPinned": true,
          "modelInstanceId": 21157,
          "sourceId": 25106,
          "sourceType": "modelInstanceVersion"
        }
      ],
      "dockerImageVersionId": 30673,
      "isGpuEnabled": true,
      "isInternetEnabled": true,
      "language": "python",
      "sourceType": "notebook"
    },
    "kernelspec": {
      "display_name": "Python 3",
      "language": "python",
      "name": "python3"
    },
    "language_info": {
      "codemirror_mode": {
        "name": "ipython",
        "version": 3
      },
      "file_extension": ".py",
      "mimetype": "text/x-python",
      "name": "python",
      "nbconvert_exporter": "python",
      "pygments_lexer": "ipython3",
      "version": "3.10.0"
    },
    "papermill": {
      "default_parameters": {},
      "duration": 514.266401,
      "end_time": "2024-04-08T07:58:39.319878",
      "environment_variables": {},
      "exception": null,
      "input_path": "__notebook__.ipynb",
      "output_path": "__notebook__.ipynb",
      "parameters": {},
      "start_time": "2024-04-08T07:50:05.053477",
      "version": "2.5.0"
    }
  },
  "nbformat": 4,
  "nbformat_minor": 5
}
